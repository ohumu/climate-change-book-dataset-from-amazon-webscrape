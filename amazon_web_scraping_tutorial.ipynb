{
 "cells": [
  {
   "cell_type": "code",
   "execution_count": null,
   "id": "1ba62ef6",
   "metadata": {},
   "outputs": [],
   "source": [
    "#Assuming you don't already have these modules installed.\n",
    "#Also assuming you're running Python 3\n",
    "!pip3 install beautifulsoup4\n",
    "!pip3 install requests\n",
    "!pip3 install pandas\n",
    "!pip3 install numpy\n",
    "!pip3 install undetected-chromedriver"
   ]
  },
  {
   "cell_type": "code",
   "execution_count": 98,
   "id": "d0431c14",
   "metadata": {},
   "outputs": [],
   "source": [
    "from bs4 import BeautifulSoup\n",
    "import requests\n",
    "import pandas as pd"
   ]
  },
  {
   "cell_type": "code",
   "execution_count": 99,
   "id": "84bc42a4",
   "metadata": {},
   "outputs": [],
   "source": [
    "#Use a link from Incognito browsing. Might help avoid a 503 error\n",
    "URL = \"https://www.amazon.com/s?k=CLIMATE+ACTION+BOOKS&crid=14N78C5AIN3LF&sprefix=climate+action+books%2Caps%2C198&ref=nb_sb_noss_2\""
   ]
  },
  {
   "cell_type": "code",
   "execution_count": 100,
   "id": "41d06b5a",
   "metadata": {},
   "outputs": [],
   "source": [
    "# Headers for request\n",
    "HEADERS = ({'User-Agent': 'Mozilla/5.0 (Macintosh; Intel Mac OS X 10_15_7) AppleWebKit/537.36 (KHTML, like Gecko) Chrome/128.0.0.0 Safari/537.36', 'Accept-Language': 'en-US, en;q=0.5'}) #add your user agent "
   ]
  },
  {
   "cell_type": "code",
   "execution_count": 101,
   "id": "942f42fc",
   "metadata": {},
   "outputs": [],
   "source": [
    "# HTTP Request\n",
    "webpage = requests.get(URL, headers=HEADERS)"
   ]
  },
  {
   "cell_type": "code",
   "execution_count": null,
   "id": "295dd5c9",
   "metadata": {},
   "outputs": [],
   "source": [
    "webpage"
   ]
  },
  {
   "cell_type": "code",
   "execution_count": null,
   "id": "70d1d923",
   "metadata": {},
   "outputs": [],
   "source": [
    "type(webpage.content)"
   ]
  },
  {
   "cell_type": "code",
   "execution_count": 104,
   "id": "d792ee49",
   "metadata": {},
   "outputs": [],
   "source": [
    "# Soup Object containiang all data\n",
    "soup = BeautifulSoup(webpage.content, \"html.parser\")"
   ]
  },
  {
   "cell_type": "code",
   "execution_count": 105,
   "id": "d4d6f6c4",
   "metadata": {},
   "outputs": [],
   "source": [
    "# Fetch links as List of Tag Objects\n",
    "links = soup.find_all(\"a\", attrs={'class':'a-link-normal s-underline-text s-underline-link-text s-link-style a-text-normal'})"
   ]
  },
  {
   "cell_type": "code",
   "execution_count": null,
   "id": "23b1776d",
   "metadata": {},
   "outputs": [],
   "source": [
    "links"
   ]
  },
  {
   "cell_type": "code",
   "execution_count": 107,
   "id": "081676a4",
   "metadata": {},
   "outputs": [
    {
     "data": {
      "text/plain": [
       "<a class=\"a-link-normal s-underline-text s-underline-link-text s-link-style a-text-normal\" href=\"/sspa/click?ie=UTF8&amp;spc=MToxMzgzMTQ4NDcxMjM0NzAwOjE3MjUzODMzMzQ6c3BfYXRmOjMwMDMwMTQwMDg3MTQwMjo6MDo6&amp;url=%2FClimate-Change-Simplified-Comprehensive-Consciousness%2Fdp%2F1962795004%2Fref%3Dsr_1_1_sspa%3Fcrid%3D14N78C5AIN3LF%26dib%3DeyJ2IjoiMSJ9.FQMx4vIncLLRCA754Fg_bfQVOkYqO3aBQQyPE3BbdWOraldRTCsmIQCtOdLz1ZvnXv9JpMB8V2SJFfQTkq2DxfV6zZVom3SITK-CCJsLZ3YGS1piW_Uvj1lpT0iEtzPpXAAVvI0N1o6UW06CcdKHaM2_0gOOGkR6VMF3JVpGaY_FnSiXxwW8Famt2SMebQC0cZbVTCSmXoWR_k4mj9ZKVANFnJqWa9iwbwFZj7L2zb8.aQrqT2aVhgm3BO1d40JC883Oc92JGmnd_X9pZurQDgc%26dib_tag%3Dse%26keywords%3DCLIMATE%2BACTION%2BBOOKS%26qid%3D1725383334%26sprefix%3Dclimate%2Baction%2Bbooks%252Caps%252C198%26sr%3D8-1-spons%26sp_csd%3Dd2lkZ2V0TmFtZT1zcF9hdGY%26psc%3D1\"><span class=\"a-size-medium a-color-base a-text-normal\">Climate Change Simplified: A Comprehensive Guide to Global Warming and Sustainable Living with 101 Essential Tips for a Greener Future and Reduced Carbon Footprint (Climate Consciousness Series)</span> </a>"
      ]
     },
     "execution_count": 107,
     "metadata": {},
     "output_type": "execute_result"
    }
   ],
   "source": [
    "links[0]"
   ]
  },
  {
   "cell_type": "code",
   "execution_count": 108,
   "id": "74ef9f46",
   "metadata": {},
   "outputs": [],
   "source": [
    "link = links[0].get('href')"
   ]
  },
  {
   "cell_type": "code",
   "execution_count": 109,
   "id": "2ab5e21f",
   "metadata": {},
   "outputs": [],
   "source": [
    "product_list = \"https://amazon.com\" + link"
   ]
  },
  {
   "cell_type": "code",
   "execution_count": 110,
   "id": "81d43c5d",
   "metadata": {},
   "outputs": [
    {
     "data": {
      "text/plain": [
       "'https://amazon.com/sspa/click?ie=UTF8&spc=MToxMzgzMTQ4NDcxMjM0NzAwOjE3MjUzODMzMzQ6c3BfYXRmOjMwMDMwMTQwMDg3MTQwMjo6MDo6&url=%2FClimate-Change-Simplified-Comprehensive-Consciousness%2Fdp%2F1962795004%2Fref%3Dsr_1_1_sspa%3Fcrid%3D14N78C5AIN3LF%26dib%3DeyJ2IjoiMSJ9.FQMx4vIncLLRCA754Fg_bfQVOkYqO3aBQQyPE3BbdWOraldRTCsmIQCtOdLz1ZvnXv9JpMB8V2SJFfQTkq2DxfV6zZVom3SITK-CCJsLZ3YGS1piW_Uvj1lpT0iEtzPpXAAVvI0N1o6UW06CcdKHaM2_0gOOGkR6VMF3JVpGaY_FnSiXxwW8Famt2SMebQC0cZbVTCSmXoWR_k4mj9ZKVANFnJqWa9iwbwFZj7L2zb8.aQrqT2aVhgm3BO1d40JC883Oc92JGmnd_X9pZurQDgc%26dib_tag%3Dse%26keywords%3DCLIMATE%2BACTION%2BBOOKS%26qid%3D1725383334%26sprefix%3Dclimate%2Baction%2Bbooks%252Caps%252C198%26sr%3D8-1-spons%26sp_csd%3Dd2lkZ2V0TmFtZT1zcF9hdGY%26psc%3D1'"
      ]
     },
     "execution_count": 110,
     "metadata": {},
     "output_type": "execute_result"
    }
   ],
   "source": [
    "product_list"
   ]
  },
  {
   "cell_type": "code",
   "execution_count": 111,
   "id": "47af27fb",
   "metadata": {},
   "outputs": [],
   "source": [
    "new_webpage = requests.get(product_list, headers=HEADERS)"
   ]
  },
  {
   "cell_type": "code",
   "execution_count": 112,
   "id": "6b3cf798",
   "metadata": {},
   "outputs": [
    {
     "data": {
      "text/plain": [
       "<Response [200]>"
      ]
     },
     "execution_count": 112,
     "metadata": {},
     "output_type": "execute_result"
    }
   ],
   "source": [
    "new_webpage"
   ]
  },
  {
   "cell_type": "code",
   "execution_count": 113,
   "id": "43b0cb13",
   "metadata": {},
   "outputs": [],
   "source": [
    "# Soup Object containiang all data\n",
    "new_soup = BeautifulSoup(new_webpage.content, \"html.parser\")"
   ]
  },
  {
   "cell_type": "code",
   "execution_count": null,
   "id": "56a91145",
   "metadata": {},
   "outputs": [],
   "source": [
    "new_soup"
   ]
  },
  {
   "cell_type": "code",
   "execution_count": 115,
   "id": "12c472d2",
   "metadata": {},
   "outputs": [
    {
     "data": {
      "text/plain": [
       "'Climate Change Simplified: A Comprehensive Guide to Global Warming and Sustainable Living with 101 Essential Tips for a Greener Future and Reduced Carbon Footprint (Climate Consciousness Series)'"
      ]
     },
     "execution_count": 115,
     "metadata": {},
     "output_type": "execute_result"
    }
   ],
   "source": [
    "#Title\n",
    "new_soup.find(\"span\", attrs={\"id\":'productTitle'}).text.strip()"
   ]
  },
  {
   "cell_type": "code",
   "execution_count": 116,
   "id": "027b5f35",
   "metadata": {},
   "outputs": [
    {
     "data": {
      "text/plain": [
       "'Alexa Ingram'"
      ]
     },
     "execution_count": 116,
     "metadata": {},
     "output_type": "execute_result"
    }
   ],
   "source": [
    "#Author\n",
    "new_soup.find(\"span\", attrs={\"class\": \"author notFaded\"})\n",
    "author_span.find(\"a\", attrs={\"class\": \"a-link-normal\"}).get_text(strip=True) # type: ignore"
   ]
  },
  {
   "cell_type": "code",
   "execution_count": 117,
   "id": "9b7da0be",
   "metadata": {},
   "outputs": [
    {
     "data": {
      "text/plain": [
       "'15.99'"
      ]
     },
     "execution_count": 117,
     "metadata": {},
     "output_type": "execute_result"
    }
   ],
   "source": [
    "#Paperback price (USD)\n",
    "new_soup.find(\"span\", attrs={\"class\":'a-price aok-align-center reinventPricePriceToPayMargin priceToPay'}).text.replace('$','').strip()"
   ]
  },
  {
   "cell_type": "code",
   "execution_count": 118,
   "id": "a8950f82",
   "metadata": {},
   "outputs": [
    {
     "data": {
      "text/plain": [
       "'88'"
      ]
     },
     "execution_count": 118,
     "metadata": {},
     "output_type": "execute_result"
    }
   ],
   "source": [
    "#Total number of ratings\n",
    "new_soup.find(\"span\", attrs={\"id\":'acrCustomerReviewText'}).text.replace('ratings', '').strip()"
   ]
  },
  {
   "cell_type": "code",
   "execution_count": 119,
   "id": "a6ffef0a",
   "metadata": {},
   "outputs": [
    {
     "data": {
      "text/plain": [
       "'4.8'"
      ]
     },
     "execution_count": 119,
     "metadata": {},
     "output_type": "execute_result"
    }
   ],
   "source": [
    "#Average rating\n",
    "new_soup.find(\"span\", attrs={\"class\":'a-icon-alt'}).text.replace('out of 5 stars', '').strip()"
   ]
  },
  {
   "cell_type": "code",
   "execution_count": 96,
   "id": "29ac3c9f",
   "metadata": {},
   "outputs": [
    {
     "data": {
      "text/plain": [
       "'186'"
      ]
     },
     "execution_count": 96,
     "metadata": {},
     "output_type": "execute_result"
    }
   ],
   "source": [
    "#Number of pages\n",
    "new_soup.select_one(\"div.a-section.a-spacing-none.a-text-center.rpi-attribute-value > span\").text.replace('pages', '').strip()"
   ]
  }
 ],
 "metadata": {
  "kernelspec": {
   "display_name": "Python 3 (ipykernel)",
   "language": "python",
   "name": "python3"
  },
  "language_info": {
   "codemirror_mode": {
    "name": "ipython",
    "version": 3
   },
   "file_extension": ".py",
   "mimetype": "text/x-python",
   "name": "python",
   "nbconvert_exporter": "python",
   "pygments_lexer": "ipython3",
   "version": "3.12.5"
  }
 },
 "nbformat": 4,
 "nbformat_minor": 5
}
